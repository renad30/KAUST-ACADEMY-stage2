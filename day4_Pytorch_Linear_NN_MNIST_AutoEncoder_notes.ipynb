{
  "nbformat": 4,
  "nbformat_minor": 0,
  "metadata": {
    "colab": {
      "provenance": [],
      "include_colab_link": true
    },
    "kernelspec": {
      "name": "python3",
      "display_name": "Python 3"
    },
    "language_info": {
      "name": "python"
    },
    "accelerator": "GPU",
    "gpuClass": "standard"
  },
  "cells": [
    {
      "cell_type": "markdown",
      "metadata": {
        "id": "view-in-github",
        "colab_type": "text"
      },
      "source": [
        "<a href=\"https://colab.research.google.com/github/renad30/KAUST-ACADEMY-stage2/blob/main/day4_Pytorch_Linear_NN_MNIST_AutoEncoder_notes.ipynb\" target=\"_parent\"><img src=\"https://colab.research.google.com/assets/colab-badge.svg\" alt=\"Open In Colab\"/></a>"
      ]
    },
    {
      "cell_type": "code",
      "source": [
        "from IPython.display import clear_output"
      ],
      "metadata": {
        "id": "zwfZGneCdQSg"
      },
      "execution_count": null,
      "outputs": []
    },
    {
      "cell_type": "code",
      "source": [
        "%pip install torch torchvision torchsummary\n",
        "%pip install numpy\n",
        "%pip install matplotlib\n",
        "\n",
        "clear_output()"
      ],
      "metadata": {
        "colab": {
          "base_uri": "https://localhost:8080/"
        },
        "id": "a9FjTEzAdQ28",
        "outputId": "5c169975-f38c-45ff-8fd8-51c9458dadee"
      },
      "execution_count": null,
      "outputs": [
        {
          "output_type": "stream",
          "name": "stdout",
          "text": [
            "Requirement already satisfied: torch in /usr/local/lib/python3.10/dist-packages (2.1.0+cu118)\n",
            "Requirement already satisfied: torchvision in /usr/local/lib/python3.10/dist-packages (0.16.0+cu118)\n",
            "Requirement already satisfied: torchsummary in /usr/local/lib/python3.10/dist-packages (1.5.1)\n",
            "Requirement already satisfied: filelock in /usr/local/lib/python3.10/dist-packages (from torch) (3.12.4)\n",
            "Requirement already satisfied: typing-extensions in /usr/local/lib/python3.10/dist-packages (from torch) (4.5.0)\n",
            "Requirement already satisfied: sympy in /usr/local/lib/python3.10/dist-packages (from torch) (1.12)\n",
            "Requirement already satisfied: networkx in /usr/local/lib/python3.10/dist-packages (from torch) (3.2)\n",
            "Requirement already satisfied: jinja2 in /usr/local/lib/python3.10/dist-packages (from torch) (3.1.2)\n",
            "Requirement already satisfied: fsspec in /usr/local/lib/python3.10/dist-packages (from torch) (2023.6.0)\n",
            "Requirement already satisfied: triton==2.1.0 in /usr/local/lib/python3.10/dist-packages (from torch) (2.1.0)\n",
            "Requirement already satisfied: numpy in /usr/local/lib/python3.10/dist-packages (from torchvision) (1.23.5)\n",
            "Requirement already satisfied: requests in /usr/local/lib/python3.10/dist-packages (from torchvision) (2.31.0)\n",
            "Requirement already satisfied: pillow!=8.3.*,>=5.3.0 in /usr/local/lib/python3.10/dist-packages (from torchvision) (9.4.0)\n",
            "Requirement already satisfied: MarkupSafe>=2.0 in /usr/local/lib/python3.10/dist-packages (from jinja2->torch) (2.1.3)\n",
            "Requirement already satisfied: charset-normalizer<4,>=2 in /usr/local/lib/python3.10/dist-packages (from requests->torchvision) (3.3.1)\n",
            "Requirement already satisfied: idna<4,>=2.5 in /usr/local/lib/python3.10/dist-packages (from requests->torchvision) (3.4)\n",
            "Requirement already satisfied: urllib3<3,>=1.21.1 in /usr/local/lib/python3.10/dist-packages (from requests->torchvision) (2.0.7)\n",
            "Requirement already satisfied: certifi>=2017.4.17 in /usr/local/lib/python3.10/dist-packages (from requests->torchvision) (2023.7.22)\n",
            "Requirement already satisfied: mpmath>=0.19 in /usr/local/lib/python3.10/dist-packages (from sympy->torch) (1.3.0)\n",
            "Requirement already satisfied: numpy in /usr/local/lib/python3.10/dist-packages (1.23.5)\n",
            "Requirement already satisfied: matplotlib in /usr/local/lib/python3.10/dist-packages (3.7.1)\n",
            "Requirement already satisfied: contourpy>=1.0.1 in /usr/local/lib/python3.10/dist-packages (from matplotlib) (1.1.1)\n",
            "Requirement already satisfied: cycler>=0.10 in /usr/local/lib/python3.10/dist-packages (from matplotlib) (0.12.1)\n",
            "Requirement already satisfied: fonttools>=4.22.0 in /usr/local/lib/python3.10/dist-packages (from matplotlib) (4.43.1)\n",
            "Requirement already satisfied: kiwisolver>=1.0.1 in /usr/local/lib/python3.10/dist-packages (from matplotlib) (1.4.5)\n",
            "Requirement already satisfied: numpy>=1.20 in /usr/local/lib/python3.10/dist-packages (from matplotlib) (1.23.5)\n",
            "Requirement already satisfied: packaging>=20.0 in /usr/local/lib/python3.10/dist-packages (from matplotlib) (23.2)\n",
            "Requirement already satisfied: pillow>=6.2.0 in /usr/local/lib/python3.10/dist-packages (from matplotlib) (9.4.0)\n",
            "Requirement already satisfied: pyparsing>=2.3.1 in /usr/local/lib/python3.10/dist-packages (from matplotlib) (3.1.1)\n",
            "Requirement already satisfied: python-dateutil>=2.7 in /usr/local/lib/python3.10/dist-packages (from matplotlib) (2.8.2)\n",
            "Requirement already satisfied: six>=1.5 in /usr/local/lib/python3.10/dist-packages (from python-dateutil>=2.7->matplotlib) (1.16.0)\n"
          ]
        }
      ]
    },
    {
      "cell_type": "code",
      "execution_count": 1,
      "metadata": {
        "id": "tQaUBH8lmnnr"
      },
      "outputs": [],
      "source": [
        "import torch\n",
        "import numpy as np\n",
        "import torch.nn as nn\n",
        "from torchvision import transforms\n",
        "from torchvision.datasets import MNIST\n",
        "from torch.utils.data.sampler import SubsetRandomSampler\n",
        "from torchsummary import summary\n",
        "import matplotlib.pyplot as plt\n",
        "from mpl_toolkits.axes_grid1 import ImageGrid"
      ]
    },
    {
      "cell_type": "markdown",
      "source": [
        "## Contents\n",
        "\n",
        "Today we'll attempt to create a number image generator through auto encoders. Here's the technique\n",
        "\n",
        "1. The model has 2 parts, an encoder and a decoder\n",
        "2. The encoder takes number image (mnist) and converts it into an embedding/encoding of specified size (output of encoder last layer). by passing it through multiple linear layers.\n",
        "3. The decoder then takes that encoding and attempts to re-create the original image\n",
        "4. During training, our cost function is the difference between generated image and original image. we'll use MSE Loss for this\n",
        "5. Once the training is complete, we'll create our own embeddings of specified size ourselves and run it through the decoder to generate images\n",
        "\n",
        "\n",
        "Note: In this notebook we'll limit ourselves to Linear Layers or BatchNorm's only (and activations). Which means NO CNN, attention, or anything fancier. For this reason, the performance might be questionable. What we wanna see is the model trying to capture the pattern?\n",
        "\n",
        "You need to know:\n",
        "\n",
        "1. **pytorch** (for impelementation)\n",
        "2. a bit of **torch dataloaders and datasets** (not necessary but helps understanding how we're loading data)\n",
        "3. A little bit of **matplotlib** (for result and training trajectory visualization)"
      ],
      "metadata": {
        "id": "gC2jmrtmiUm7"
      }
    },
    {
      "cell_type": "code",
      "source": [
        "batch_size = 64\n",
        "\n",
        "train_transforms = transforms.Compose([\n",
        "                        transforms.RandomCrop(28, padding=4),\n",
        "                        transforms.ToTensor(),\n",
        "                    ])\n",
        "\n",
        "train_data = MNIST(root='./datasets', train=True, download=True, transform=train_transforms)\n",
        "train_loader = torch.utils.data.DataLoader(train_data, batch_size=batch_size, shuffle=True)"
      ],
      "metadata": {
        "id": "b83RYTZueJCW",
        "colab": {
          "base_uri": "https://localhost:8080/"
        },
        "outputId": "faca7472-d068-46ca-bedb-0f4169067643"
      },
      "execution_count": 2,
      "outputs": [
        {
          "output_type": "stream",
          "name": "stdout",
          "text": [
            "Downloading http://yann.lecun.com/exdb/mnist/train-images-idx3-ubyte.gz\n",
            "Failed to download (trying next):\n",
            "HTTP Error 403: Forbidden\n",
            "\n",
            "Downloading https://ossci-datasets.s3.amazonaws.com/mnist/train-images-idx3-ubyte.gz\n",
            "Downloading https://ossci-datasets.s3.amazonaws.com/mnist/train-images-idx3-ubyte.gz to ./datasets/MNIST/raw/train-images-idx3-ubyte.gz\n"
          ]
        },
        {
          "output_type": "stream",
          "name": "stderr",
          "text": [
            "100%|██████████| 9.91M/9.91M [00:01<00:00, 5.09MB/s]\n"
          ]
        },
        {
          "output_type": "stream",
          "name": "stdout",
          "text": [
            "Extracting ./datasets/MNIST/raw/train-images-idx3-ubyte.gz to ./datasets/MNIST/raw\n",
            "\n",
            "Downloading http://yann.lecun.com/exdb/mnist/train-labels-idx1-ubyte.gz\n",
            "Failed to download (trying next):\n",
            "HTTP Error 403: Forbidden\n",
            "\n",
            "Downloading https://ossci-datasets.s3.amazonaws.com/mnist/train-labels-idx1-ubyte.gz\n",
            "Downloading https://ossci-datasets.s3.amazonaws.com/mnist/train-labels-idx1-ubyte.gz to ./datasets/MNIST/raw/train-labels-idx1-ubyte.gz\n"
          ]
        },
        {
          "output_type": "stream",
          "name": "stderr",
          "text": [
            "100%|██████████| 28.9k/28.9k [00:00<00:00, 133kB/s]\n"
          ]
        },
        {
          "output_type": "stream",
          "name": "stdout",
          "text": [
            "Extracting ./datasets/MNIST/raw/train-labels-idx1-ubyte.gz to ./datasets/MNIST/raw\n",
            "\n",
            "Downloading http://yann.lecun.com/exdb/mnist/t10k-images-idx3-ubyte.gz\n",
            "Failed to download (trying next):\n",
            "HTTP Error 403: Forbidden\n",
            "\n",
            "Downloading https://ossci-datasets.s3.amazonaws.com/mnist/t10k-images-idx3-ubyte.gz\n",
            "Downloading https://ossci-datasets.s3.amazonaws.com/mnist/t10k-images-idx3-ubyte.gz to ./datasets/MNIST/raw/t10k-images-idx3-ubyte.gz\n"
          ]
        },
        {
          "output_type": "stream",
          "name": "stderr",
          "text": [
            "100%|██████████| 1.65M/1.65M [00:06<00:00, 243kB/s]\n"
          ]
        },
        {
          "output_type": "stream",
          "name": "stdout",
          "text": [
            "Extracting ./datasets/MNIST/raw/t10k-images-idx3-ubyte.gz to ./datasets/MNIST/raw\n",
            "\n",
            "Downloading http://yann.lecun.com/exdb/mnist/t10k-labels-idx1-ubyte.gz\n",
            "Failed to download (trying next):\n",
            "HTTP Error 403: Forbidden\n",
            "\n",
            "Downloading https://ossci-datasets.s3.amazonaws.com/mnist/t10k-labels-idx1-ubyte.gz\n",
            "Downloading https://ossci-datasets.s3.amazonaws.com/mnist/t10k-labels-idx1-ubyte.gz to ./datasets/MNIST/raw/t10k-labels-idx1-ubyte.gz\n"
          ]
        },
        {
          "output_type": "stream",
          "name": "stderr",
          "text": [
            "100%|██████████| 4.54k/4.54k [00:00<00:00, 4.28MB/s]"
          ]
        },
        {
          "output_type": "stream",
          "name": "stdout",
          "text": [
            "Extracting ./datasets/MNIST/raw/t10k-labels-idx1-ubyte.gz to ./datasets/MNIST/raw\n",
            "\n"
          ]
        },
        {
          "output_type": "stream",
          "name": "stderr",
          "text": [
            "\n"
          ]
        }
      ]
    },
    {
      "cell_type": "code",
      "source": [
        "class AutoEncoderGenerator(nn.Module): #-> to parts : 1- encoder 2- decoder\n",
        "\n",
        "  def __init__(self, dim_z):\n",
        "    super().__init__()\n",
        "    self.Encoder = nn.Sequential(\n",
        "\n",
        "        nn.Linear(28*28, 1024), # my note: input - output\n",
        "        nn.LeakyReLU(),\n",
        "        nn.BatchNorm1d(1024), # we can delete it but its better to have it \"1d\" means leanier\n",
        "\n",
        "        nn.Linear(1024, 512),\n",
        "        nn.LeakyReLU(),\n",
        "        nn.BatchNorm1d(512),\n",
        "\n",
        "        nn.Linear(512, 256),\n",
        "        nn.LeakyReLU(),\n",
        "\n",
        "        nn.Linear(256, dim_z), # make the image smaller\n",
        "        nn.Tanh(),\n",
        "      )\n",
        "\n",
        "\n",
        "    self.Decoder = nn.Sequential(\n",
        "        nn.Linear(dim_z, 256),\n",
        "        nn.LeakyReLU(),\n",
        "\n",
        "        nn.Linear(256, 512),\n",
        "        nn.LeakyReLU(),\n",
        "\n",
        "        nn.Linear(512, 1024),\n",
        "        nn.LeakyReLU(),\n",
        "\n",
        "        nn.Linear(1024, 28*28),\n",
        "        nn.Sigmoid()\n",
        "      )\n",
        "\n",
        "  def forward(self, x):\n",
        "\n",
        "    original_shape = x.shape\n",
        "    x = torch.flatten(x, start_dim=1) # my note : same as veiw (-1,28*28) , we want the feature dim\n",
        "\n",
        "    z = self.Encoder(x) # my note -> we make the image smaller\n",
        "    x = self.Decoder(z) # my note : reverse\n",
        "\n",
        "    x = x.view(original_shape)\n",
        "\n",
        "    return x\n"
      ],
      "metadata": {
        "id": "iEF-W-XZnB68"
      },
      "execution_count": 3,
      "outputs": []
    },
    {
      "cell_type": "code",
      "source": [
        "dim_z = 128 # my note : z is the bottle neck\n",
        "model = AutoEncoderGenerator(dim_z=dim_z)"
      ],
      "metadata": {
        "id": "IFKJOAj5Pbdl"
      },
      "execution_count": 5,
      "outputs": []
    },
    {
      "cell_type": "code",
      "source": [
        "summary(model, (1, 28, 28), device='cpu')"
      ],
      "metadata": {
        "colab": {
          "base_uri": "https://localhost:8080/"
        },
        "id": "YWBNQw3LtZd4",
        "outputId": "7d1fc9e3-49a5-4df4-aa56-271af6c7ef56"
      },
      "execution_count": 6,
      "outputs": [
        {
          "output_type": "stream",
          "name": "stdout",
          "text": [
            "----------------------------------------------------------------\n",
            "        Layer (type)               Output Shape         Param #\n",
            "================================================================\n",
            "            Linear-1                 [-1, 1024]         803,840\n",
            "         LeakyReLU-2                 [-1, 1024]               0\n",
            "       BatchNorm1d-3                 [-1, 1024]           2,048\n",
            "            Linear-4                  [-1, 512]         524,800\n",
            "         LeakyReLU-5                  [-1, 512]               0\n",
            "       BatchNorm1d-6                  [-1, 512]           1,024\n",
            "            Linear-7                  [-1, 256]         131,328\n",
            "         LeakyReLU-8                  [-1, 256]               0\n",
            "            Linear-9                  [-1, 128]          32,896\n",
            "             Tanh-10                  [-1, 128]               0\n",
            "           Linear-11                  [-1, 256]          33,024\n",
            "        LeakyReLU-12                  [-1, 256]               0\n",
            "           Linear-13                  [-1, 512]         131,584\n",
            "        LeakyReLU-14                  [-1, 512]               0\n",
            "           Linear-15                 [-1, 1024]         525,312\n",
            "        LeakyReLU-16                 [-1, 1024]               0\n",
            "           Linear-17                  [-1, 784]         803,600\n",
            "          Sigmoid-18                  [-1, 784]               0\n",
            "================================================================\n",
            "Total params: 2,989,456\n",
            "Trainable params: 2,989,456\n",
            "Non-trainable params: 0\n",
            "----------------------------------------------------------------\n",
            "Input size (MB): 0.00\n",
            "Forward/backward pass size (MB): 0.08\n",
            "Params size (MB): 11.40\n",
            "Estimated Total Size (MB): 11.49\n",
            "----------------------------------------------------------------\n"
          ]
        }
      ]
    },
    {
      "cell_type": "code",
      "source": [
        "device = 'cuda' if torch.cuda.is_available() else 'cpu'\n",
        "\n",
        "model.to(device)\n",
        "\n",
        "num_epochs = 20\n",
        "lr = 1e-4\n",
        "optimizer = torch.optim.Adam(model.parameters(), lr=lr)\n",
        "criterion = nn.MSELoss()"
      ],
      "metadata": {
        "id": "tXbOcut4fJFV"
      },
      "execution_count": 7,
      "outputs": []
    },
    {
      "cell_type": "code",
      "source": [
        "train_losses = []\n",
        "\n",
        "for i in range(num_epochs):\n",
        "\n",
        "  epoch_weighted_loss = 0\n",
        "  for (X, _) in train_loader:\n",
        "\n",
        "    X = X.to(device)\n",
        "\n",
        "    Xhat = model(X)  # Xhat because we're trying to have the model regenerate what's fed to it (X)\n",
        "\n",
        "# my note : update the weghits:\n",
        "\n",
        "    optimizer.zero_grad()\n",
        "    loss = criterion(Xhat, X)\n",
        "    loss.backward()\n",
        "    optimizer.step()\n",
        "\n",
        "    epoch_weighted_loss += loss.item()*len(X)\n",
        "\n",
        "  epoch_loss = epoch_weighted_loss/len(train_loader.dataset)\n",
        "\n",
        "  print(f'epoch {i}/{num_epochs}, loss = {epoch_loss}')\n",
        "\n",
        "  train_losses.append(epoch_loss)"
      ],
      "metadata": {
        "id": "CFXvYta-rxsT",
        "colab": {
          "base_uri": "https://localhost:8080/"
        },
        "outputId": "d61f4708-4bde-49c8-9055-2a9d25d04684"
      },
      "execution_count": 8,
      "outputs": [
        {
          "output_type": "stream",
          "name": "stdout",
          "text": [
            "epoch 0/20, loss = 0.060467418976624804\n",
            "epoch 1/20, loss = 0.035706160408258435\n",
            "epoch 2/20, loss = 0.02935382755100727\n",
            "epoch 3/20, loss = 0.02583678672214349\n",
            "epoch 4/20, loss = 0.023500711781779926\n",
            "epoch 5/20, loss = 0.021675092042485872\n",
            "epoch 6/20, loss = 0.020196248387296993\n",
            "epoch 7/20, loss = 0.019004593520363173\n",
            "epoch 8/20, loss = 0.018121822678049404\n",
            "epoch 9/20, loss = 0.017333975143233937\n",
            "epoch 10/20, loss = 0.016657954970002175\n",
            "epoch 11/20, loss = 0.016046220744649568\n",
            "epoch 12/20, loss = 0.015462875603636106\n",
            "epoch 13/20, loss = 0.014889311882356803\n",
            "epoch 14/20, loss = 0.014389793645838896\n",
            "epoch 15/20, loss = 0.013971937743326028\n",
            "epoch 16/20, loss = 0.013563322097063065\n",
            "epoch 17/20, loss = 0.013191803116103013\n",
            "epoch 18/20, loss = 0.0128174078459541\n",
            "epoch 19/20, loss = 0.012502308404445649\n"
          ]
        }
      ]
    },
    {
      "cell_type": "code",
      "source": [
        "plt.plot(train_losses)"
      ],
      "metadata": {
        "colab": {
          "base_uri": "https://localhost:8080/",
          "height": 447
        },
        "id": "XUwJuIZosq1_",
        "outputId": "a69515e5-ab38-40b4-b5f1-dd34da6a5400"
      },
      "execution_count": 10,
      "outputs": [
        {
          "output_type": "execute_result",
          "data": {
            "text/plain": [
              "[<matplotlib.lines.Line2D at 0x78893ed5da50>]"
            ]
          },
          "metadata": {},
          "execution_count": 10
        },
        {
          "output_type": "display_data",
          "data": {
            "text/plain": [
              "<Figure size 640x480 with 1 Axes>"
            ],
            "image/png": "[encoded data removed]"
          },
          "metadata": {}
        }
      ]
    },
    {
      "cell_type": "code",
      "source": [
        "# Helper function to display results\n",
        "def display_image_grid(images, num_rows, num_cols, title_text):\n",
        "\n",
        "    fig = plt.figure(figsize=(num_cols*3., num_rows*3.), )\n",
        "    grid = ImageGrid(fig, 111, nrows_ncols=(num_rows, num_cols), axes_pad=0.15)\n",
        "\n",
        "    for ax, im in zip(grid, images):\n",
        "        ax.imshow(im, cmap=\"gray\")\n",
        "        ax.axis(\"off\")\n",
        "\n",
        "    plt.suptitle(title_text, fontsize=20)\n",
        "    plt.show()"
      ],
      "metadata": {
        "id": "0wBaVZ0UvkOG"
      },
      "execution_count": 11,
      "outputs": []
    },
    {
      "cell_type": "code",
      "source": [
        "# Now we will try some actual generation. We will sample the encodings randomly and then pass them through decoder\n",
        "\n",
        "rows, cols = 2, 7 # my note : 2*7 = 14 dim and z is the number of totsl numbers \"128\"\n",
        "sample_encodings = (torch.rand(rows*cols, dim_z).to(device) - 0.5) * 2 # encoding space: [-1,1)\n",
        "with torch.no_grad():\n",
        "  generations = model.Decoder(sample_encodings).cpu() # convert to cpu so we can print it\n",
        "  generations = generations.reshape(-1, 28, 28, 1)   # torch (batch_size, channels, height, width) but we are using mapblot so we should change the channels\n",
        "display_image_grid(generations, rows, cols, \"generated_images\")"
      ],
      "metadata": {
        "colab": {
          "base_uri": "https://localhost:8080/",
          "height": 479
        },
        "id": "aO3WkbTiuQQM",
        "outputId": "960839c6-4ff3-4f32-9767-6841e5f60369"
      },
      "execution_count": 12,
      "outputs": [
        {
          "output_type": "display_data",
          "data": {
            "text/plain": [
              "<Figure size 2100x600 with 28 Axes>"
            ],
            "image/png": "[encoded data removed]"
          },
          "metadata": {}
        }
      ]
    },
    {
      "cell_type": "markdown",
      "source": [
        "The images aren't too fancy but we can see it's trying to learn.\n",
        "In a few images we can also guess the number it's trying to generate"
      ],
      "metadata": {
        "id": "Zi16wGLUkWJa"
      }
    },
    {
      "cell_type": "code",
      "source": [],
      "metadata": {
        "id": "MXtat3dgXs-9"
      },
      "execution_count": null,
      "outputs": []
    }
  ]
}