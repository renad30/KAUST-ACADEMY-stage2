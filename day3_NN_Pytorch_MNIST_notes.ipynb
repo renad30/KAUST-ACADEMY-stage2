{
  "cells": [
    {
      "cell_type": "markdown",
      "metadata": {
        "id": "view-in-github",
        "colab_type": "text"
      },
      "source": [
        "<a href=\"https://colab.research.google.com/github/renad30/KAUST-ACADEMY-stage2/blob/main/day3_NN_Pytorch_MNIST_notes.ipynb\" target=\"_parent\"><img src=\"https://colab.research.google.com/assets/colab-badge.svg\" alt=\"Open In Colab\"/></a>"
      ]
    },
    {
      "cell_type": "code",
      "execution_count": null,
      "metadata": {
        "id": "NFs5q8XAox82"
      },
      "outputs": [],
      "source": [
        "from IPython.display import clear_output"
      ]
    },
    {
      "cell_type": "code",
      "execution_count": null,
      "metadata": {
        "id": "HKSL__IwozZs"
      },
      "outputs": [],
      "source": [
        "# Download the required libraries (needed when running outside colab where the environment doesn't come pre-loaded with libraries)\n",
        "\n",
        "%pip install torch\n",
        "%pip install matplotlib\n",
        "%pip install torchvision\n",
        "\n",
        "clear_output()"
      ]
    },
    {
      "cell_type": "code",
      "execution_count": 1,
      "metadata": {
        "id": "xziZ2Kj1pZrq"
      },
      "outputs": [],
      "source": [
        "import torch\n",
        "\n",
        "import torch.nn as nn\n",
        "\n",
        "from torchvision.datasets import MNIST # the dataset is fetched from MINSIT\n",
        "from torch.utils.data import DataLoader\n",
        "from torch.optim import Adam\n",
        "\n",
        "from torchvision.transforms.functional import to_tensor\n",
        "\n",
        "import matplotlib.pyplot as plt"
      ]
    },
    {
      "cell_type": "markdown",
      "metadata": {
        "id": "1tH9YmdSAW7i"
      },
      "source": [
        "#Contents:\n",
        "\n",
        "1. Implementation of 1-2 layer NN fin pytorch which classifies MNIST dataset\n",
        "\n",
        "About MNIST:\n",
        "\n",
        "the dataset consists of images of 28x28 size. The image each contains a handwritten digit from 0 to 9. Our model needs to take this image and classify it to the correct digit.\n",
        "\n",
        "\n",
        "You need to know:\n",
        "\n",
        "1. **pytorch** (for impelementation)\n",
        "2. a little bit of **matplotlib** (for visualization)\n",
        "\n",
        "\n",
        "Good to have knowledge of:\n",
        "\n",
        "1. torch dataset and dataloader"
      ]
    },
    {
      "cell_type": "code",
      "execution_count": 2,
      "metadata": {
        "id": "ZTqeY0V6pV3T",
        "colab": {
          "base_uri": "https://localhost:8080/"
        },
        "outputId": "922d78b0-72a6-4b52-d320-462b4b8ed978"
      },
      "outputs": [
        {
          "output_type": "stream",
          "name": "stdout",
          "text": [
            "Downloading http://yann.lecun.com/exdb/mnist/train-images-idx3-ubyte.gz\n",
            "Failed to download (trying next):\n",
            "HTTP Error 403: Forbidden\n",
            "\n",
            "Downloading https://ossci-datasets.s3.amazonaws.com/mnist/train-images-idx3-ubyte.gz\n",
            "Downloading https://ossci-datasets.s3.amazonaws.com/mnist/train-images-idx3-ubyte.gz to ./datasets/MNIST/raw/train-images-idx3-ubyte.gz\n"
          ]
        },
        {
          "output_type": "stream",
          "name": "stderr",
          "text": [
            "100%|██████████| 9.91M/9.91M [00:00<00:00, 15.1MB/s]\n"
          ]
        },
        {
          "output_type": "stream",
          "name": "stdout",
          "text": [
            "Extracting ./datasets/MNIST/raw/train-images-idx3-ubyte.gz to ./datasets/MNIST/raw\n",
            "\n",
            "Downloading http://yann.lecun.com/exdb/mnist/train-labels-idx1-ubyte.gz\n",
            "Failed to download (trying next):\n",
            "HTTP Error 403: Forbidden\n",
            "\n",
            "Downloading https://ossci-datasets.s3.amazonaws.com/mnist/train-labels-idx1-ubyte.gz\n",
            "Downloading https://ossci-datasets.s3.amazonaws.com/mnist/train-labels-idx1-ubyte.gz to ./datasets/MNIST/raw/train-labels-idx1-ubyte.gz\n"
          ]
        },
        {
          "output_type": "stream",
          "name": "stderr",
          "text": [
            "100%|██████████| 28.9k/28.9k [00:00<00:00, 444kB/s]\n"
          ]
        },
        {
          "output_type": "stream",
          "name": "stdout",
          "text": [
            "Extracting ./datasets/MNIST/raw/train-labels-idx1-ubyte.gz to ./datasets/MNIST/raw\n",
            "\n",
            "Downloading http://yann.lecun.com/exdb/mnist/t10k-images-idx3-ubyte.gz\n",
            "Failed to download (trying next):\n",
            "HTTP Error 403: Forbidden\n",
            "\n",
            "Downloading https://ossci-datasets.s3.amazonaws.com/mnist/t10k-images-idx3-ubyte.gz\n",
            "Downloading https://ossci-datasets.s3.amazonaws.com/mnist/t10k-images-idx3-ubyte.gz to ./datasets/MNIST/raw/t10k-images-idx3-ubyte.gz\n"
          ]
        },
        {
          "output_type": "stream",
          "name": "stderr",
          "text": [
            "100%|██████████| 1.65M/1.65M [00:00<00:00, 4.20MB/s]\n"
          ]
        },
        {
          "output_type": "stream",
          "name": "stdout",
          "text": [
            "Extracting ./datasets/MNIST/raw/t10k-images-idx3-ubyte.gz to ./datasets/MNIST/raw\n",
            "\n",
            "Downloading http://yann.lecun.com/exdb/mnist/t10k-labels-idx1-ubyte.gz\n",
            "Failed to download (trying next):\n",
            "HTTP Error 403: Forbidden\n",
            "\n",
            "Downloading https://ossci-datasets.s3.amazonaws.com/mnist/t10k-labels-idx1-ubyte.gz\n",
            "Downloading https://ossci-datasets.s3.amazonaws.com/mnist/t10k-labels-idx1-ubyte.gz to ./datasets/MNIST/raw/t10k-labels-idx1-ubyte.gz\n"
          ]
        },
        {
          "output_type": "stream",
          "name": "stderr",
          "text": [
            "100%|██████████| 4.54k/4.54k [00:00<00:00, 5.15MB/s]"
          ]
        },
        {
          "output_type": "stream",
          "name": "stdout",
          "text": [
            "Extracting ./datasets/MNIST/raw/t10k-labels-idx1-ubyte.gz to ./datasets/MNIST/raw\n",
            "\n"
          ]
        },
        {
          "output_type": "stream",
          "name": "stderr",
          "text": [
            "\n"
          ]
        }
      ],
      "source": [
        "# MNIST function fetches the MNIST dataset. Without any transform param, the returned object is a Pillow image but we want to convert it to numerical form\n",
        "# that is to say, a numpy array/torch tensor\n",
        "\n",
        "# to_tensor is used to avoid errors when creating data loader later. we'll convert them to numpy arrays when the time comes\n",
        "#train_data = MNIST(??)\n",
        "#test_data  = MNIST(??)\n",
        "\n",
        "train_data = MNIST(root='./datasets', train=True, download=True, transform=to_tensor)\n",
        "test_data  = MNIST(root='./datasets', train=False, download=True, transform=to_tensor)\n",
        "\n",
        "#clear_output()\n",
        "\n",
        "#train_data=[\"data\"][0].shape-> error"
      ]
    },
    {
      "cell_type": "markdown",
      "source": [
        "my note: check the dataset \" important\""
      ],
      "metadata": {
        "id": "Hr2q6E-xfQs5"
      }
    },
    {
      "cell_type": "code",
      "source": [
        "print (train_data.data.shape)\n",
        "print (train_data.targets.shape)\n",
        "print (\"number of classes: \", len(train_data.classes))"
      ],
      "metadata": {
        "colab": {
          "base_uri": "https://localhost:8080/"
        },
        "id": "vx6HwBc3fQZS",
        "outputId": "d975af14-ae11-4b95-e22f-dd69df899ccc"
      },
      "execution_count": 3,
      "outputs": [
        {
          "output_type": "stream",
          "name": "stdout",
          "text": [
            "torch.Size([60000, 28, 28])\n",
            "torch.Size([60000])\n",
            "number of classes:  10\n"
          ]
        }
      ]
    },
    {
      "cell_type": "markdown",
      "source": [
        "my note: it didnt print the color channel so its a grey scale"
      ],
      "metadata": {
        "id": "NDQvqHR-f-TT"
      }
    },
    {
      "cell_type": "code",
      "execution_count": 5,
      "metadata": {
        "id": "PWmnHXbSr9Al"
      },
      "outputs": [],
      "source": [
        "batch_size = 64\n",
        "\n",
        "# Dataloaders are used to easily create batches of data so we can perform batch gradient descent for faster learning\n",
        "#train_loader = DataLoader(??, batch_size=batch_size)\n",
        "#test_loader = DataLoader(??, batch_size=batch_size)\n",
        "\n",
        "train_loader = DataLoader(train_data, batch_size=batch_size , shuffle= True)\n",
        "test_loader = DataLoader(test_data, batch_size=batch_size, shuffle= False)"
      ]
    },
    {
      "cell_type": "markdown",
      "metadata": {
        "id": "9aQrW8JC0HBo"
      },
      "source": [
        "## Models\n",
        "\n",
        "let's create the architecture of our models\n",
        "\n",
        "Instead of sigmoid activation, we'll use softmax activation\n",
        "\n",
        "The difference is:\n",
        "- sigmoid brings each value in the range 0-1\n",
        "- softmax takes a vector and changes the value into probabilities: i.e the sum of those values = 1. The highest value in the original vector retains the highest value in softmax output\n",
        "\n",
        "Here's the formula for softmax:\n",
        "\n",
        "$$\n",
        "\\text{Softmax}(x)_i = \\frac{e^{x_i}}{\\sum_{j} e^{x_j}}\n",
        "$$"
      ]
    },
    {
      "cell_type": "markdown",
      "source": [
        "my note : here we defined 2 models"
      ],
      "metadata": {
        "id": "vF6gIWyPXr8g"
      }
    },
    {
      "cell_type": "code",
      "execution_count": 6,
      "metadata": {
        "id": "CXfUV5ZLzGKa"
      },
      "outputs": [],
      "source": [
        "class NN1Layer(nn.Module):\n",
        "\n",
        "  def __init__(self, num_inp, num_out):\n",
        "\n",
        "    super(NN1Layer, self).__init__()\n",
        "\n",
        "    #self.layer_1 = nn.Linear(??, ??)\n",
        "    self.layer_1 = nn.Linear(num_inp, num_out)\n",
        "    #self.softmax = ??\n",
        "    self.softmax =nn.softmax(dim=1)\n",
        "\n",
        "  def forward(self, x):\n",
        "\n",
        "    z = self.layer_1(x)\n",
        "    a = self.softmax(z)\n",
        "\n",
        "    return a\n",
        "\n",
        "\n",
        "class NN2Layer(nn.Module):\n",
        "\n",
        "  def __init__(self, num_inp, num_hidden, num_out):\n",
        "\n",
        "    super(NN2Layer, self).__init__()\n",
        "\n",
        "    #self.layer_1 = nn.Linear(??, ??) #my note: ->  (num_inp, num_hidden)\n",
        "    self.layer_1 = nn.Linear (num_inp, num_hidden)\n",
        "    self.layer_2 = nn.Linear(num_hidden, num_out)\n",
        "\n",
        "    self.hidden_activation = nn.ReLU()  # We can change the hidden activation (activation in between layer 1 and 2) here\n",
        "    self.softmax = nn.Softmax(dim=1)  # dim 0 is normally batch size, we don't want to apply softmax across batch size\n",
        "\n",
        "  def forward(self, x):\n",
        "\n",
        "    z1 = self.layer_1(x)\n",
        "    a1 = self.hidden_activation(z1)\n",
        "\n",
        "    z2 = self.layer_2(a1)\n",
        "    a2 = self.softmax(z2)\n",
        "\n",
        "    return a2"
      ]
    },
    {
      "cell_type": "markdown",
      "source": [
        "EX codes i added"
      ],
      "metadata": {
        "id": "63dB8J-oc2dj"
      }
    },
    {
      "cell_type": "code",
      "source": [
        "# 3 layers:\n",
        "\n",
        "import torch\n",
        "import torch.nn as nn\n",
        "\n",
        "class NN3Layer(nn.Module):\n",
        "    def __init__(self, num_inp, num_hidden1, num_hidden2, num_out):\n",
        "        super(NN3Layer, self).__init__()\n",
        "\n",
        "        # Define layers\n",
        "        self.layer_1 = nn.Linear(num_inp, num_hidden1)  # First hidden layer\n",
        "        self.layer_2 = nn.Linear(num_hidden1, num_hidden2)  # Second hidden layer\n",
        "        self.layer_3 = nn.Linear(num_hidden2, num_out)  # Output layer\n",
        "\n",
        "        # Activation functions\n",
        "        self.hidden_activation1 = nn.ReLU()  # Activation for the first hidden layer\n",
        "        self.hidden_activation2 = nn.ReLU()  # Activation for the second hidden layer\n",
        "        self.softmax = nn.Softmax(dim=1)  # Softmax for output layer\n",
        "\n",
        "    def forward(self, x):\n",
        "        z1 = self.layer_1(x)\n",
        "        a1 = self.hidden_activation1(z1)\n",
        "\n",
        "        z2 = self.layer_2(a1)\n",
        "        a2 = self.hidden_activation2(z2)\n",
        "\n",
        "        z3 = self.layer_3(a2)\n",
        "        a3 = self.softmax(z3)\n",
        "\n",
        "        return a3"
      ],
      "metadata": {
        "colab": {
          "base_uri": "https://localhost:8080/",
          "height": 106
        },
        "id": "hzfWCztSc2G3",
        "outputId": "aed7c6b1-50f0-4899-a1d6-72b6321dd335"
      },
      "execution_count": 1,
      "outputs": [
        {
          "output_type": "error",
          "ename": "SyntaxError",
          "evalue": "invalid syntax (<ipython-input-1-4fce8f2e4088>, line 1)",
          "traceback": [
            "\u001b[0;36m  File \u001b[0;32m\"<ipython-input-1-4fce8f2e4088>\"\u001b[0;36m, line \u001b[0;32m1\u001b[0m\n\u001b[0;31m    3 layers:\u001b[0m\n\u001b[0m      ^\u001b[0m\n\u001b[0;31mSyntaxError\u001b[0m\u001b[0;31m:\u001b[0m invalid syntax\n"
          ]
        }
      ]
    },
    {
      "cell_type": "markdown",
      "metadata": {
        "id": "8u_e7ldrtHh1"
      },
      "source": [
        "## The main training loop, with batch gradient descent.\n",
        "\n"
      ]
    },
    {
      "cell_type": "markdown",
      "metadata": {
        "id": "KhSQZRw36s0k"
      },
      "source": [
        "Declare model, it's params, optimizers and criterion etc\n",
        "\n",
        "We'll also declare a device here. This will let us use GPU\n",
        "you can see how much difference a GPU makes by changing the device param to cpu and cuda"
      ]
    },
    {
      "cell_type": "code",
      "execution_count": 7,
      "metadata": {
        "colab": {
          "base_uri": "https://localhost:8080/"
        },
        "id": "TCMTZkue74nL",
        "outputId": "9f10e2c8-55d6-4048-a9d8-0d528038acfb"
      },
      "outputs": [
        {
          "output_type": "stream",
          "name": "stdout",
          "text": [
            "Using device cuda\n"
          ]
        }
      ],
      "source": [
        "num_epochs = 12\n",
        "lr = 1e-4 #my note : leaerning rate= 10^-4 = 0.0001\n",
        "\n",
        "device = 'cuda' if torch.cuda.is_available() else 'cpu'  # checks if machine supports cuda and if it does, we use that, otherwise cpu\n",
        "\n",
        "train_losses = []\n",
        "val_losses = []\n",
        "\n",
        "# model = NN1Layer(28*28, 10)  # 28*28 because that's the input size. 10 because that's the numbber of classes (0-9)\n",
        "model = NN2Layer(28*28, 32, 10)  # The 2 layer one is equivalent to the one we implemented in numpy\n",
        "\n",
        "#optimizer= ??\n",
        "optimizer = Adam(model.parameters(), lr=lr) #my note: for the optimizer i should use the Adam or AdamW \" dont forget to import it\"\n",
        "#criterion = ??\n",
        "criterion = nn.CrossEntropyLoss() # multi-class , my note : for binary-> criterion = nn.BCELoss()\n",
        "\n",
        "model.to(device)  # we need to send all input tensors as well as our model to this device. by default they are on cpu\n",
        "\n",
        "print(f'Using device {device}') # my note: so both the model and the data will be at the same place"
      ]
    },
    {
      "cell_type": "markdown",
      "metadata": {
        "id": "4r4KeFeG8mF4"
      },
      "source": [
        "Pre-train performance"
      ]
    },
    {
      "cell_type": "markdown",
      "source": [
        "my note: here we are just calculating the model accurcy\"val\" without any training"
      ],
      "metadata": {
        "id": "GI9IKby5NoGr"
      }
    },
    {
      "cell_type": "code",
      "execution_count": 8,
      "metadata": {
        "colab": {
          "base_uri": "https://localhost:8080/"
        },
        "id": "h-qDqF6f8oIp",
        "outputId": "c007329b-0a26-45d4-a817-eda7d4e40709"
      },
      "outputs": [
        {
          "output_type": "stream",
          "name": "stdout",
          "text": [
            "val_loss=2.3019142818450926. labelled 1126/10000 correctly (11.26% accuracy)\n",
            "CPU times: user 1.51 s, sys: 61 ms, total: 1.57 s\n",
            "Wall time: 1.88 s\n"
          ]
        }
      ],
      "source": [
        "%%time\n",
        "model.eval()\n",
        "correctly_labelled = 0\n",
        "\n",
        "with torch.no_grad():\n",
        "\n",
        "  val_epoch_weighted_loss = 0\n",
        "\n",
        "  for val_batch_X, val_batch_y in test_loader:\n",
        "\n",
        "    #val_batch_X = val_batch_X.view(??, ??).to(device)\n",
        "    val_batch_X = val_batch_X.view(-1, 28*28).to(device)\n",
        "    val_batch_y = val_batch_y.to(device)\n",
        "\n",
        "    val_batch_y_probs = model(val_batch_X)\n",
        "\n",
        "    #loss = criterion(??, ??)\n",
        "    loss = criterion(val_batch_y_probs, val_batch_y)\n",
        "    val_epoch_weighted_loss += (len(val_batch_y)*loss.item())\n",
        "\n",
        "    val_batch_y_pred = val_batch_y_probs.argmax(dim=1)  # convert probailities to labels by picking the label (index) with the highest prob\n",
        "\n",
        "    correctly_labelled += (val_batch_y_pred == val_batch_y).sum().item()  # item converts tensor to float/int/list\n",
        "\n",
        "val_epoch_loss = val_epoch_weighted_loss/len(test_loader.dataset)\n",
        "val_losses.append(val_epoch_loss)\n",
        "\n",
        "print(f'val_loss={val_epoch_loss}. labelled {correctly_labelled}/{len(test_loader.dataset)} correctly ({correctly_labelled/len(test_loader.dataset)*100}% accuracy)')"
      ]
    },
    {
      "cell_type": "markdown",
      "metadata": {
        "id": "bZzBFOA48Fb7"
      },
      "source": [
        "Training the model"
      ]
    },
    {
      "cell_type": "code",
      "execution_count": 10,
      "metadata": {
        "colab": {
          "base_uri": "https://localhost:8080/"
        },
        "id": "sy0ChPzH7_wx",
        "outputId": "74e318e9-b823-4a9f-8728-596b104e6f3b"
      },
      "outputs": [
        {
          "output_type": "stream",
          "name": "stdout",
          "text": [
            "Epoch: 0, train_loss=1.5498319881439209, val_loss=1.546555842399597. labelled 9267/10000 correctly (92.67% accuracy)\n",
            "Epoch: 1, train_loss=1.5479400236129761, val_loss=1.5458262033462524. labelled 9263/10000 correctly (92.63% accuracy)\n",
            "Epoch: 2, train_loss=1.5462240504582723, val_loss=1.5433577396392821. labelled 9286/10000 correctly (92.86% accuracy)\n",
            "Epoch: 3, train_loss=1.5446096230824788, val_loss=1.542882624053955. labelled 9278/10000 correctly (92.78% accuracy)\n",
            "Epoch: 4, train_loss=1.5431195885340372, val_loss=1.5414981567382813. labelled 9284/10000 correctly (92.84% accuracy)\n",
            "Epoch: 5, train_loss=1.5417282983144125, val_loss=1.5404175924301147. labelled 9290/10000 correctly (92.9% accuracy)\n",
            "Epoch: 6, train_loss=1.5404080218633016, val_loss=1.5396028272628783. labelled 9300/10000 correctly (93.0% accuracy)\n",
            "Epoch: 7, train_loss=1.539094907951355, val_loss=1.5385210706710815. labelled 9312/10000 correctly (93.12% accuracy)\n",
            "Epoch: 8, train_loss=1.5379989751815797, val_loss=1.5375162031173706. labelled 9320/10000 correctly (93.2% accuracy)\n",
            "Epoch: 9, train_loss=1.536879523976644, val_loss=1.5366666610717774. labelled 9320/10000 correctly (93.2% accuracy)\n",
            "Epoch: 10, train_loss=1.5357150440216065, val_loss=1.535985417366028. labelled 9331/10000 correctly (93.31% accuracy)\n",
            "Epoch: 11, train_loss=1.5347229327519736, val_loss=1.5350125169754028. labelled 9342/10000 correctly (93.42% accuracy)\n",
            "Training complete on device cuda. Change device variable and run again to see the difference.\n",
            "CPU times: user 1min 42s, sys: 517 ms, total: 1min 43s\n",
            "Wall time: 1min 44s\n"
          ]
        }
      ],
      "source": [
        "%%time\n",
        "for epoch_no in range(num_epochs): #my note: epoch\n",
        "\n",
        "  model.train()  # convert to train model. This turns out train-specific layers in the model (if you dont know about them, an example of them is dropout. more on this later)\n",
        "\n",
        "  epoch_weighted_loss = 0\n",
        "                                                                                                                        #my note: for grey scale: .view(-1, 28*28).to(device)\n",
        "                                                                                                                        #         for color scale: .view(-1, 3*28*28).to(device)\n",
        "  for batch_X, batch_y in train_loader:# my note: step                                                                  # .view = reshape in pandas\n",
        "                                                                                                                        # device is cuda\n",
        "\n",
        "    batch_X = batch_X.view(-1, 28*28).to(device)  # convert to [N, 28*28] shape where N is batch_size\n",
        "    batch_y = batch_y.to(device)\n",
        "\n",
        "    batch_y_probs = model(batch_X)  # outputs [N, 10] where each [:, 10] is probabilities for class (0-9) # mu note: here er are trsining the modle \" forward pass\"\n",
        "\n",
        "    loss = criterion(batch_y_probs,batch_y) # my note: here er are calculating the loss \" backward pass\"\n",
        "\n",
        "    optimizer.zero_grad()  # need to clear out gradients from previous batch\n",
        "    loss.backward()  # calculate new gradients\n",
        "    optimizer.step()  # update weights\n",
        "\n",
        "    epoch_weighted_loss += (len(batch_y)*loss.item()) # my note: here we are summing the loss\n",
        "\n",
        "  epoch_loss = epoch_weighted_loss/len(train_loader.dataset)\n",
        "  train_losses.append(epoch_loss)    # add loss for tracking. we'll visualize the loss trajectory later\n",
        "\n",
        "\n",
        "\n",
        "\n",
        "\n",
        "\n",
        "\n",
        "\n",
        "  # validation time, my note : same as the train loop but without updating the weghits\n",
        "\n",
        "  model.eval()  # take model to evaluation mode. turn off train-only layers\n",
        "  correctly_labelled = 0\n",
        "\n",
        "  with torch.no_grad():  # this makes our model to NOT track gradients\n",
        "\n",
        "    val_epoch_weighted_loss = 0\n",
        "\n",
        "    for val_batch_X, val_batch_y in test_loader:\n",
        "\n",
        "      val_batch_X = val_batch_X.view(-1, 28*28).to(device)\n",
        "      val_batch_y = val_batch_y.to(device)\n",
        "\n",
        "      #val_batch_y_probs = model(??)\n",
        "      val_batch_y_probs = model(val_batch_X)\n",
        "\n",
        "      #loss = criterion(??, ??)\n",
        "      loss = criterion(val_batch_y_probs, val_batch_y)\n",
        "\n",
        "      val_epoch_weighted_loss += (len(val_batch_y)*loss.item())\n",
        "\n",
        "      val_batch_y_pred = val_batch_y_probs.argmax(dim=1)  # convert probailities to labels by picking the label (index) with the highest prob\n",
        "\n",
        "      correctly_labelled += (val_batch_y_pred == val_batch_y).sum().item()  # item converts tensor to float/int/list\n",
        "\n",
        "  #val_epoch_loss = val_epoch_weighted_loss/len(??)\n",
        "\n",
        "  val_epoch_loss = val_epoch_weighted_loss/len(test_loader.dataset)\n",
        "  val_losses.append(val_epoch_loss)\n",
        "\n",
        "  print(f'Epoch: {epoch_no}, train_loss={epoch_loss}, val_loss={val_epoch_loss}. labelled {correctly_labelled}/{len(test_loader.dataset)} correctly ({correctly_labelled/len(test_loader.dataset)*100}% accuracy)')\n",
        "\n",
        "print(f'Training complete on device {device}. Change device variable and run again to see the difference.')"
      ]
    },
    {
      "cell_type": "markdown",
      "metadata": {
        "id": "WvNZwZsd_4Nf"
      },
      "source": [
        "Loss trajectory"
      ]
    },
    {
      "cell_type": "code",
      "execution_count": 11,
      "metadata": {
        "colab": {
          "base_uri": "https://localhost:8080/",
          "height": 449
        },
        "id": "Jtaq-nooqSj9",
        "outputId": "4c7ef2f1-7f62-411b-e89c-5c8c502d610e"
      },
      "outputs": [
        {
          "output_type": "display_data",
          "data": {
            "text/plain": [
              "<Figure size 640x480 with 1 Axes>"
            ],
            "image/png": "[encoded data removed]"
          },
          "metadata": {}
        }
      ],
      "source": [
        "plt.plot(train_losses, label='train loss')\n",
        "plt.plot(val_losses, label='val loss')\n",
        "plt.xlabel('Epoch')\n",
        "plt.ylabel('Loss (Cross Entropy)')\n",
        "plt.legend()\n",
        "plt.show()"
      ]
    },
    {
      "cell_type": "markdown",
      "metadata": {
        "id": "G8Jf5i7IAswc"
      },
      "source": [
        "visualizing shapes"
      ]
    },
    {
      "cell_type": "code",
      "execution_count": 12,
      "metadata": {
        "colab": {
          "base_uri": "https://localhost:8080/"
        },
        "id": "eOaxXyMg-ahW",
        "outputId": "ab4e6b48-9e0d-4756-e0f9-aa77d5323253"
      },
      "outputs": [
        {
          "output_type": "stream",
          "name": "stdout",
          "text": [
            "torch.Size([16, 784]) torch.Size([16])\n",
            "torch.Size([16, 10])\n",
            "torch.Size([16])\n",
            "\n",
            "\n",
            "To verify softmax converts inputs into probabilities (sum of which is 1), let's sum those probabilities and see if we get 1's: \n",
            "\n",
            "val_batch_y_probs.sum(1)=tensor([1.0000, 1.0000, 1.0000, 1.0000, 1.0000, 1.0000, 1.0000, 1.0000, 1.0000,\n",
            "        1.0000, 1.0000, 1.0000, 1.0000, 1.0000, 1.0000, 1.0000],\n",
            "       device='cuda:0')\n",
            "\n",
            "val_batch_y_probs.sum(1).shape=torch.Size([16])\n",
            "\n",
            "\n",
            "Lets see argmax in action\n",
            "Here's one of the input to argmax\n",
            "\n",
            "tensor([2.9502e-10, 1.7637e-25, 1.3249e-08, 6.6339e-19, 1.8074e-11, 1.7071e-11,\n",
            "        1.0000e+00, 3.1008e-20, 1.3269e-13, 2.3319e-16])\n",
            "\n",
            "\n",
            "Here's its output\n",
            "tensor(6)\n"
          ]
        }
      ],
      "source": [
        "print(val_batch_X.shape, val_batch_y.shape)  # 784 is 28*28\n",
        "print(val_batch_y_probs.shape)  # inference from model\n",
        "print(val_batch_y_pred.shape)  # probabilities converted\n",
        "\n",
        "print(\"\\n\\nTo verify softmax converts inputs into probabilities (sum of which is 1), let's sum those probabilities and see if we get 1's: \\n\")\n",
        "print(f'{val_batch_y_probs.sum(1)=}')\n",
        "\n",
        "print(f'\\n{val_batch_y_probs.sum(1).shape=}')\n",
        "\n",
        "print('\\n\\nLets see argmax in action')\n",
        "print(\"Here's one of the input to argmax\\n\")\n",
        "test_idx = 15\n",
        "print(val_batch_y_probs[test_idx].cpu())  # .cpu() brings a tensor back to cpu device from any other it might be on (like cuda)\n",
        "print(\"\\n\\nHere's its output\")\n",
        "print(val_batch_y_pred[test_idx].cpu())"
      ]
    },
    {
      "cell_type": "markdown",
      "metadata": {
        "id": "_iw2G2akA5lB"
      },
      "source": [
        "Saving and loading the model"
      ]
    },
    {
      "cell_type": "code",
      "execution_count": 13,
      "metadata": {
        "id": "Hi61n3DJAtvp"
      },
      "outputs": [],
      "source": [
        "# you can load save the model's state dict like this\n",
        "torch.save(model.state_dict(), 'MNIST_classifier.pt')  # take a look at the storage section if you're on colab"
      ]
    },
    {
      "cell_type": "code",
      "execution_count": 14,
      "metadata": {
        "colab": {
          "base_uri": "https://localhost:8080/"
        },
        "id": "MC84w0WpBE2Q",
        "outputId": "fdc5ffd1-2525-4ec0-c466-6b7836abfbfa"
      },
      "outputs": [
        {
          "output_type": "stream",
          "name": "stdout",
          "text": [
            "Before loading model\n",
            "1/16 correct\n",
            "After loading model\n",
            "16/16 correct\n"
          ]
        },
        {
          "output_type": "stream",
          "name": "stderr",
          "text": [
            "<ipython-input-14-3d8b10a6368e>:14: FutureWarning: You are using `torch.load` with `weights_only=False` (the current default value), which uses the default pickle module implicitly. It is possible to construct malicious pickle data which will execute arbitrary code during unpickling (See https://github.com/pytorch/pytorch/blob/main/SECURITY.md#untrusted-models for more details). In a future release, the default value for `weights_only` will be flipped to `True`. This limits the functions that could be executed during unpickling. Arbitrary objects will no longer be allowed to be loaded via this mode unless they are explicitly allowlisted by the user via `torch.serialization.add_safe_globals`. We recommend you start setting `weights_only=True` for any use case where you don't have full control of the loaded file. Please open an issue on GitHub for any issues related to this experimental feature.\n",
            "  loaded_model.load_state_dict(torch.load('MNIST_classifier.pt'))\n"
          ]
        }
      ],
      "source": [
        "loaded_model = NN2Layer(28*28, 32, 10)  # just an empty model.\n",
        "loaded_model.eval().to(device)\n",
        "\n",
        "print('Before loading model')\n",
        "\n",
        "with torch.no_grad():\n",
        "  probs = loaded_model(val_batch_X)\n",
        "  preds = probs.argmax(dim=1)\n",
        "\n",
        "  print(f'{(preds==val_batch_y).sum()}/{len(preds)} correct')\n",
        "\n",
        "\n",
        "print('After loading model')\n",
        "loaded_model.load_state_dict(torch.load('MNIST_classifier.pt'))\n",
        "\n",
        "with torch.no_grad():\n",
        "  probs = loaded_model(val_batch_X)\n",
        "  preds = probs.argmax(dim=1)\n",
        "\n",
        "  print(f'{(preds==val_batch_y).sum()}/{len(preds)} correct')"
      ]
    },
    {
      "cell_type": "markdown",
      "metadata": {
        "id": "hTWzqt7SCQaz"
      },
      "source": [
        "END."
      ]
    },
    {
      "cell_type": "code",
      "execution_count": null,
      "metadata": {
        "id": "2n4cITtHB6Xa"
      },
      "outputs": [],
      "source": []
    }
  ],
  "metadata": {
    "accelerator": "GPU",
    "colab": {
      "gpuType": "T4",
      "provenance": [],
      "include_colab_link": true
    },
    "kernelspec": {
      "display_name": "Python 3",
      "name": "python3"
    },
    "language_info": {
      "codemirror_mode": {
        "name": "ipython",
        "version": 3
      },
      "file_extension": ".py",
      "mimetype": "text/x-python",
      "name": "python",
      "nbconvert_exporter": "python",
      "pygments_lexer": "ipython3",
      "version": "3.9.7"
    }
  },
  "nbformat": 4,
  "nbformat_minor": 0
}