{
  "cells": [
    {
      "cell_type": "markdown",
      "metadata": {
        "id": "view-in-github",
        "colab_type": "text"
      },
      "source": [
        "<a href=\"https://colab.research.google.com/github/renad30/KAUST-ACADEMY-stage2/blob/main/Copy_of_KAIAI24_B2_Ex1.ipynb\" target=\"_parent\"><img src=\"https://colab.research.google.com/assets/colab-badge.svg\" alt=\"Open In Colab\"/></a>"
      ]
    },
    {
      "cell_type": "markdown",
      "metadata": {
        "id": "fEJ_E7ZGkSRa"
      },
      "source": [
        "# Task: Predict weekly sales of a walmart store using linear regression model with closed-form with Numpy (other libraries are not allowed)\n",
        "\n",
        "## In this notebook, you will have three tasks:\n",
        "\n",
        "## *   Split the data into train (80%) **and** validation (20%)\n",
        "## *   Find the best theta\n",
        "## *   Print the train loss **and** validation loss\n"
      ]
    },
    {
      "cell_type": "markdown",
      "metadata": {
        "id": "k2POSs_sU_CL"
      },
      "source": [
        "\n",
        "You are provided with a dataset about Walmart's sales in a CSV file.\n",
        "\n",
        "This is the historical data that covers sales from 2010-02-05 to 2012-11-01, in the file Walmart_Store_sales. Within this file you will find the following fields:\n",
        "\n",
        "1. Store - the store number\n",
        "2. Date - the week of sales\n",
        "3. Weekly_Sales - sales for the given store\n",
        "4. Holiday_Flag - whether the week is a special holiday week: 1 – Holiday week 0 – Non-holiday week\n",
        "5. Temperature - Temperature on the day of sale\n",
        "6. Fuel_Price - Cost of fuel in the region\n",
        "7. CPI – Prevailing consumer price index\n",
        "8. Unemployment - Prevailing unemployment rate\n",
        "\n",
        "\n"
      ]
    },
    {
      "cell_type": "markdown",
      "source": [
        "## Do Not Touch this part"
      ],
      "metadata": {
        "id": "-HULSoaEphCU"
      }
    },
    {
      "cell_type": "code",
      "execution_count": null,
      "metadata": {
        "id": "7uAMaDaamBP6"
      },
      "outputs": [],
      "source": [
        "from IPython.display import clear_output\n",
        "\n",
        "%pip install gdown==4.5\n",
        "\n",
        "clear_output()\n",
        "\n",
        "# Download the CSV file.\n",
        "!gdown 1UjuHkxE8VSQOdklibKqZ72qodJLBynEv\n",
        "\n",
        "import pandas as pd\n",
        "import numpy as np"
      ]
    },
    {
      "cell_type": "code",
      "execution_count": null,
      "metadata": {
        "id": "vhGxkHdlmEiI"
      },
      "outputs": [],
      "source": [
        "data_df = pd.read_csv('Walmart.csv')\n",
        "data_y = data_df['Weekly_Sales'] # target\n",
        "data_x = data_df.drop(['Weekly_Sales'], axis=1) # input features\n",
        "data_x = data_x.drop(['Date'], axis=1) # remove the date"
      ]
    },
    {
      "cell_type": "code",
      "execution_count": null,
      "metadata": {
        "id": "QlS3O4RzjKcw"
      },
      "outputs": [],
      "source": [
        "data_x.head()"
      ]
    },
    {
      "cell_type": "code",
      "execution_count": null,
      "metadata": {
        "id": "-LKzVz90jUup"
      },
      "outputs": [],
      "source": [
        "X = data_x.values\n",
        "y = data_y.values"
      ]
    },
    {
      "cell_type": "markdown",
      "source": [
        "## Split Data to train and validation datasets"
      ],
      "metadata": {
        "id": "u7ZXKZhTpkm8"
      }
    },
    {
      "cell_type": "code",
      "source": [
        "# TODO (you can use sklearn)\n",
        "# Splitting the data into train (80%) and validation (20%) sets\n",
        "from sklearn.model_selection import train_test_split\n",
        "\n",
        "# Randomly split the dataset\n",
        "X_train, X_val, y_train, y_val = train_test_split(X, y, test_size=0.2, random_state=42)\n",
        "\n",
        "# Print the shapes of the splits to confirm\n",
        "print(\"Training data shape:\", X_train.shape)\n",
        "print(\"Validation data shape:\", X_val.shape)\n"
      ],
      "metadata": {
        "id": "8NJb_W4-ppNO"
      },
      "execution_count": null,
      "outputs": []
    },
    {
      "cell_type": "markdown",
      "source": [
        "## Find the best theta (use closed-form)"
      ],
      "metadata": {
        "id": "ayo2Bna8ppdF"
      }
    },
    {
      "cell_type": "code",
      "source": [
        "# TODO (use closed-form)\n",
        "# Compute the optimal theta using the closed-form solution\n",
        "# Formula: theta = (X^T * X)^(-1) * X^T * y\n",
        "\n",
        "# Closed-form solution for theta\n",
        "theta = np.linalg.inv(X_train.T @ X_train) @ X_train.T @ y_train\n",
        "\n",
        "# Print the resulting theta values\n",
        "print(\"Optimal theta:\", theta)\n",
        "\n"
      ],
      "metadata": {
        "id": "a0yTU3X6pp0y"
      },
      "execution_count": null,
      "outputs": []
    },
    {
      "cell_type": "markdown",
      "source": [
        "## Print the train and validation losses"
      ],
      "metadata": {
        "id": "css1iWZZpqEK"
      }
    },
    {
      "cell_type": "code",
      "source": [
        "# TODO\n",
        "# Define a function to compute mean squared error (MSE)\n",
        "def mean_squared_error(y_true, y_pred):\n",
        "    return np.mean((y_true - y_pred) ** 2)\n",
        "\n",
        "# Compute predictions for train and validation sets\n",
        "y_train_pred = X_train @otheta\n",
        "y_val_pred = X_val @ theta\n",
        "\n",
        "# Calculate train and validation losses\n",
        "train_loss = mean_squared_error(y_train, y_train_pred)\n",
        "val_loss = mean_squared_error(y_val, y_val_pred)\n",
        "\n",
        "# Print the losses\n",
        "print(\"Train Loss (MSE):\", train_loss)\n",
        "print(\"Validation Loss (MSE):\", val_loss)\n"
      ],
      "metadata": {
        "id": "FOl3RqMSp1jS"
      },
      "execution_count": null,
      "outputs": []
    }
  ],
  "metadata": {
    "colab": {
      "provenance": [],
      "include_colab_link": true
    },
    "kernelspec": {
      "display_name": "Python 3",
      "name": "python3"
    },
    "language_info": {
      "name": "python"
    }
  },
  "nbformat": 4,
  "nbformat_minor": 0
}