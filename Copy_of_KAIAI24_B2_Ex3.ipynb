{
  "nbformat": 4,
  "nbformat_minor": 0,
  "metadata": {
    "colab": {
      "provenance": [],
      "gpuType": "T4",
      "include_colab_link": true
    },
    "kernelspec": {
      "name": "python3",
      "display_name": "Python 3"
    },
    "language_info": {
      "name": "python"
    },
    "accelerator": "GPU"
  },
  "cells": [
    {
      "cell_type": "markdown",
      "metadata": {
        "id": "view-in-github",
        "colab_type": "text"
      },
      "source": [
        "<a href=\"https://colab.research.google.com/github/renad30/KAUST-ACADEMY-stage2/blob/main/Copy_of_KAIAI24_B2_Ex3.ipynb\" target=\"_parent\"><img src=\"https://colab.research.google.com/assets/colab-badge.svg\" alt=\"Open In Colab\"/></a>"
      ]
    },
    {
      "cell_type": "markdown",
      "source": [
        "# Tasks: Classify images from CIFAR_STAR (modified version of CIFAR)\n",
        "##1) Create at least 4 layers NN to classify the dataset\n",
        "##2) Train the neural network on train dataset\n",
        "##3) Show the training loss\n",
        "##4) Calculate the accuracy on test set\n",
        "##5) Calculate class-wise accuracy"
      ],
      "metadata": {
        "id": "NBETITp396AM"
      }
    },
    {
      "cell_type": "markdown",
      "source": [
        "## Do not touch this part"
      ],
      "metadata": {
        "id": "uExAy6tqx6Lj"
      }
    },
    {
      "cell_type": "code",
      "execution_count": null,
      "metadata": {
        "id": "zcWdmzFF6Wy3"
      },
      "outputs": [],
      "source": [
        "import torch\n",
        "import numpy as np\n",
        "import torch.nn as nn\n",
        "import torch.optim as optim\n",
        "import torch.nn.functional as F\n",
        "import matplotlib.pyplot as plt\n",
        "from torchvision.datasets import CIFAR10\n",
        "import torchvision.transforms as T\n",
        "from torch.utils.data import DataLoader"
      ]
    },
    {
      "cell_type": "code",
      "source": [
        "# Custom transformation to extract green and blue channels\n",
        "class ExtractGreenBlueChannels(object):\n",
        "    def __call__(self, img):\n",
        "        # Extracting green and blue channels\n",
        "        green_blue_img = img[1:, :, :]  # Extracting green and blue channels correctly\n",
        "        return green_blue_img\n",
        "\n",
        "def CIFAR_STAR():\n",
        "  # Define transformations\n",
        "  transform = T.Compose([\n",
        "    T.Resize((18, 18)),\n",
        "    T.ToTensor(),  # Convert PIL image to tensor\n",
        "    ExtractGreenBlueChannels(),  # Custom transformation to extract green and blue channels\n",
        "  ])\n",
        "\n",
        "  train_dataset = CIFAR10(\"/\", download=True, train=True, transform=transform)\n",
        "  test_dataset = CIFAR10(\"/\", download=True, train=False, transform=transform)\n",
        "  return train_dataset, test_dataset\n",
        "\n",
        "train_dataset, test_dataset = CIFAR_STAR()\n",
        "\n",
        "# Create data loaders\n",
        "train_loader = DataLoader(train_dataset, batch_size=16, shuffle=True)\n",
        "test_loader = DataLoader(test_dataset, batch_size=16, shuffle=False)"
      ],
      "metadata": {
        "colab": {
          "base_uri": "https://localhost:8080/"
        },
        "id": "2rhZ6jLayu4t",
        "outputId": "4827ce27-389b-4632-861c-fd05ad74e694"
      },
      "execution_count": null,
      "outputs": [
        {
          "output_type": "stream",
          "name": "stdout",
          "text": [
            "Downloading https://www.cs.toronto.edu/~kriz/cifar-10-python.tar.gz to /cifar-10-python.tar.gz\n"
          ]
        },
        {
          "output_type": "stream",
          "name": "stderr",
          "text": [
            "100%|██████████| 170M/170M [00:04<00:00, 40.3MB/s]\n"
          ]
        },
        {
          "output_type": "stream",
          "name": "stdout",
          "text": [
            "Extracting /cifar-10-python.tar.gz to /\n",
            "Files already downloaded and verified\n"
          ]
        }
      ]
    },
    {
      "cell_type": "code",
      "source": [
        "next(iter(train_loader))[0].shape"
      ],
      "metadata": {
        "colab": {
          "base_uri": "https://localhost:8080/"
        },
        "id": "9dHChYT3zijl",
        "outputId": "f6d4d2c2-f6e5-4c37-fd97-f05f949ed415"
      },
      "execution_count": null,
      "outputs": [
        {
          "output_type": "execute_result",
          "data": {
            "text/plain": [
              "torch.Size([16, 2, 18, 18])"
            ]
          },
          "metadata": {},
          "execution_count": 3
        }
      ]
    },
    {
      "cell_type": "markdown",
      "source": [
        "## Your code can start here"
      ],
      "metadata": {
        "id": "fZYt1afpx9hV"
      }
    },
    {
      "cell_type": "code",
      "source": [
        "# TODO\n",
        "# Define the Model\n",
        "class SimpleNN(nn.Module):\n",
        "    def __init__(self):\n",
        "        super(SimpleNN, self).__init__()\n",
        "        # Define a 4-layer fully connected neural network\n",
        "        self.layer1 = nn.Linear(2 * 18 * 18, 256)  # Input layer\n",
        "        self.layer2 = nn.Linear(256, 128)  # Hidden layer 1\n",
        "        self.layer3 = nn.Linear(128, 64)  # Hidden layer 2\n",
        "        self.layer4 = nn.Linear(64, 10)  # Output layer for 10 classes\n",
        "\n",
        "    def forward(self, x):\n",
        "        x = F.relu(self.layer1(x))  # Apply ReLU activation\n",
        "        x = F.relu(self.layer2(x))\n",
        "        x = F.relu(self.layer3(x))\n",
        "        x = F.sigmoid(self.layer4(x))\n",
        "        return x"
      ],
      "metadata": {
        "id": "3FeROf2rUw_r"
      },
      "execution_count": null,
      "outputs": []
    },
    {
      "cell_type": "code",
      "source": [
        "# Initialize the model\n",
        "model = SimpleNN()\n",
        "\n",
        "# Define the loss function (cross-entropy for multiclass classification)\n",
        "criterion = nn.CrossEntropyLoss()\n",
        "\n",
        "# Define the optimizer\n",
        "optimizer = optim.AdamW(model.parameters(), lr=0.0001)\n"
      ],
      "metadata": {
        "id": "OwKRHuBQt1Xm"
      },
      "execution_count": null,
      "outputs": []
    },
    {
      "cell_type": "code",
      "source": [
        "from tqdm import tqdm\n",
        "\n",
        "# Train the neural network\n",
        "def train_model(model, train_loader, criterion, optimizer, epochs=5):\n",
        "    model.train()  # Set model to training mode\n",
        "    losses = []\n",
        "\n",
        "    for epoch in range(epochs):\n",
        "        epoch_loss = 0\n",
        "        for images, labels in tqdm(train_loader):\n",
        "            # Flatten the input (convert to samples and features)\n",
        "            images = images.view(images.size(0), -1)\n",
        "\n",
        "            # Forward pass\n",
        "            outputs = model(images)\n",
        "            loss = criterion(outputs, labels)\n",
        "\n",
        "            # Backward pass\n",
        "            optimizer.zero_grad()\n",
        "            loss.backward()\n",
        "            optimizer.step()\n",
        "\n",
        "            epoch_loss += loss.item()\n",
        "\n",
        "        epoch_loss /= len(train_loader)\n",
        "        losses.append(epoch_loss)\n",
        "        print(f\"Epoch {epoch + 1}/{epochs}, Loss: {epoch_loss:.4f}\")\n",
        "\n",
        "    # Plot training loss\n",
        "    plt.plot(losses)\n",
        "    plt.xlabel('Epochs')\n",
        "    plt.ylabel('Loss')\n",
        "    plt.title('Training Loss')\n",
        "    plt.show()\n",
        "\n",
        "train_model(model, train_loader, criterion, optimizer, epochs=5)\n"
      ],
      "metadata": {
        "id": "ZuHOYXESuD-M",
        "outputId": "ec1d4ce2-a575-4bc5-e593-e5c89bbdf6ec",
        "colab": {
          "base_uri": "https://localhost:8080/",
          "height": 645
        }
      },
      "execution_count": null,
      "outputs": [
        {
          "output_type": "stream",
          "name": "stderr",
          "text": [
            "100%|██████████| 3125/3125 [00:25<00:00, 122.58it/s]\n"
          ]
        },
        {
          "output_type": "stream",
          "name": "stdout",
          "text": [
            "Epoch 1/5, Loss: 2.0937\n"
          ]
        },
        {
          "output_type": "stream",
          "name": "stderr",
          "text": [
            "100%|██████████| 3125/3125 [00:27<00:00, 114.30it/s]\n"
          ]
        },
        {
          "output_type": "stream",
          "name": "stdout",
          "text": [
            "Epoch 2/5, Loss: 2.0208\n"
          ]
        },
        {
          "output_type": "stream",
          "name": "stderr",
          "text": [
            "100%|██████████| 3125/3125 [00:26<00:00, 116.97it/s]\n"
          ]
        },
        {
          "output_type": "stream",
          "name": "stdout",
          "text": [
            "Epoch 3/5, Loss: 1.9958\n"
          ]
        },
        {
          "output_type": "stream",
          "name": "stderr",
          "text": [
            "100%|██████████| 3125/3125 [00:26<00:00, 115.91it/s]\n"
          ]
        },
        {
          "output_type": "stream",
          "name": "stdout",
          "text": [
            "Epoch 4/5, Loss: 1.9782\n"
          ]
        },
        {
          "output_type": "stream",
          "name": "stderr",
          "text": [
            "100%|██████████| 3125/3125 [00:26<00:00, 115.74it/s]\n"
          ]
        },
        {
          "output_type": "stream",
          "name": "stdout",
          "text": [
            "Epoch 5/5, Loss: 1.9679\n"
          ]
        },
        {
          "output_type": "display_data",
          "data": {
            "text/plain": [
              "<Figure size 640x480 with 1 Axes>"
            ],
            "image/png": "[encoded data removed]"
          },
          "metadata": {}
        }
      ]
    },
    {
      "cell_type": "code",
      "source": [
        "# Evaluate the model on the test dataset\n",
        "def evaluate_model(model, test_loader):\n",
        "    model.eval()  # Set model to evaluation mode\n",
        "    correct = 0\n",
        "    total = 0\n",
        "\n",
        "    with torch.no_grad():  # No gradient calculation during testing\n",
        "        for images, labels in tqdm(test_loader):\n",
        "            # Flatten the input\n",
        "            images = images.view(images.size(0), -1)\n",
        "\n",
        "            outputs = model(images)\n",
        "            predicted = torch.argmax(outputs, dim=1)\n",
        "            total += labels.size(0)\n",
        "            correct += (predicted == labels).sum().item()\n",
        "\n",
        "    accuracy = 100 * correct / total\n",
        "    print(f\"\\nTest Accuracy: {accuracy:.2f}%\")\n",
        "\n",
        "evaluate_model(model, test_loader)\n"
      ],
      "metadata": {
        "id": "Yuonz_1uuXAZ",
        "outputId": "7811dfe4-9ab1-41ae-95a4-d19598f9c3f1",
        "colab": {
          "base_uri": "https://localhost:8080/"
        }
      },
      "execution_count": null,
      "outputs": [
        {
          "output_type": "stream",
          "name": "stderr",
          "text": [
            "100%|██████████| 625/625 [00:03<00:00, 203.00it/s]"
          ]
        },
        {
          "output_type": "stream",
          "name": "stdout",
          "text": [
            "\n",
            "Test Accuracy: 37.55%\n"
          ]
        },
        {
          "output_type": "stream",
          "name": "stderr",
          "text": [
            "\n"
          ]
        }
      ]
    },
    {
      "cell_type": "code",
      "source": [
        "def class_wise_accuracy(model, test_loader, num_classes=10):\n",
        "    model.eval()  # Set the model to evaluation mode\n",
        "    class_correct = [0] * num_classes\n",
        "    class_total = [0] * num_classes\n",
        "\n",
        "    # Disable gradient calculation during evaluation\n",
        "    with torch.no_grad():\n",
        "        for images, labels in tqdm(test_loader):\n",
        "            # Flatten images\n",
        "            images = images.view(images.size(0), -1)\n",
        "            # Get predictions\n",
        "            outputs = model(images)\n",
        "            predictions = torch.argmax(outputs, dim=1)\n",
        "\n",
        "            # Update class-wise counts\n",
        "            for label, prediction in zip(labels, predictions):\n",
        "                if label == prediction:     # if match, count it.\n",
        "                    class_correct[label] += 1\n",
        "                class_total[label] += 1     # Keep track of the total number of samples\n",
        "\n",
        "    # Print class-wise accuracy\n",
        "    for i in range(num_classes):\n",
        "          accuracy = 100 * class_correct[i] / class_total[i]\n",
        "          print(f\"\\nClass {i}: {accuracy}%\")\n",
        "\n",
        "class_wise_accuracy(model, test_loader)\n"
      ],
      "metadata": {
        "id": "P6pWLeF4vrQ2",
        "outputId": "d3ccd20a-63f2-4a53-d1bc-b26ce44520f3",
        "colab": {
          "base_uri": "https://localhost:8080/"
        }
      },
      "execution_count": null,
      "outputs": [
        {
          "output_type": "stream",
          "name": "stderr",
          "text": [
            "100%|██████████| 625/625 [00:02<00:00, 256.45it/s]"
          ]
        },
        {
          "output_type": "stream",
          "name": "stdout",
          "text": [
            "\n",
            "Class 0: 65.8%\n",
            "\n",
            "Class 1: 42.2%\n",
            "\n",
            "Class 2: 12.6%\n",
            "\n",
            "Class 3: 21.7%\n",
            "\n",
            "Class 4: 27.6%\n",
            "\n",
            "Class 5: 25.5%\n",
            "\n",
            "Class 6: 52.5%\n",
            "\n",
            "Class 7: 39.6%\n",
            "\n",
            "Class 8: 39.2%\n",
            "\n",
            "Class 9: 48.8%\n"
          ]
        },
        {
          "output_type": "stream",
          "name": "stderr",
          "text": [
            "\n"
          ]
        }
      ]
    }
  ]
}